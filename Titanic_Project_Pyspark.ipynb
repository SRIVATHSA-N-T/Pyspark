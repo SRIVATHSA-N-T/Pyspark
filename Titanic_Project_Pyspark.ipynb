{
  "nbformat": 4,
  "nbformat_minor": 0,
  "metadata": {
    "colab": {
      "provenance": []
    },
    "kernelspec": {
      "name": "python3",
      "display_name": "Python 3"
    },
    "language_info": {
      "name": "python"
    }
  },
  "cells": [
    {
      "cell_type": "code",
      "execution_count": null,
      "metadata": {
        "colab": {
          "base_uri": "https://localhost:8080/"
        },
        "id": "7nWmS-eTw0ot",
        "outputId": "971fe219-78ab-4308-c247-654400786cdd"
      },
      "outputs": [
        {
          "output_type": "stream",
          "name": "stdout",
          "text": [
            "Looking in indexes: https://pypi.org/simple, https://us-python.pkg.dev/colab-wheels/public/simple/\n",
            "Collecting pyspark\n",
            "  Downloading pyspark-3.3.1.tar.gz (281.4 MB)\n",
            "\u001b[K     |████████████████████████████████| 281.4 MB 43 kB/s \n",
            "\u001b[?25hCollecting py4j==0.10.9.5\n",
            "  Downloading py4j-0.10.9.5-py2.py3-none-any.whl (199 kB)\n",
            "\u001b[K     |████████████████████████████████| 199 kB 60.7 MB/s \n",
            "\u001b[?25hBuilding wheels for collected packages: pyspark\n",
            "  Building wheel for pyspark (setup.py) ... \u001b[?25l\u001b[?25hdone\n",
            "  Created wheel for pyspark: filename=pyspark-3.3.1-py2.py3-none-any.whl size=281845512 sha256=f5340cb7e5278bb02c64cc8c2208e884bb540bd32a301d8c8cff12774c9e80b0\n",
            "  Stored in directory: /root/.cache/pip/wheels/43/dc/11/ec201cd671da62fa9c5cc77078235e40722170ceba231d7598\n",
            "Successfully built pyspark\n",
            "Installing collected packages: py4j, pyspark\n",
            "Successfully installed py4j-0.10.9.5 pyspark-3.3.1\n"
          ]
        }
      ],
      "source": [
        "!pip install pyspark"
      ]
    },
    {
      "cell_type": "code",
      "source": [
        "from pyspark.sql import SparkSession\n",
        "from pyspark.ml import Pipeline\n",
        "from pyspark.sql.functions import mean,col,split, col, regexp_extract, when, lit\n",
        "from pyspark.ml.feature import StringIndexer\n",
        "from pyspark.ml.feature import VectorAssembler\n",
        "from pyspark.ml.evaluation import MulticlassClassificationEvaluator\n",
        "from pyspark.ml.feature import QuantileDiscretizer"
      ],
      "metadata": {
        "id": "L1LjJLMWw5Sm"
      },
      "execution_count": null,
      "outputs": []
    },
    {
      "cell_type": "code",
      "source": [
        "spark = SparkSession \\\n",
        "    .builder \\\n",
        "    .appName(\"Spark ML example on titanic data \") \\\n",
        "    .getOrCreate()"
      ],
      "metadata": {
        "id": "t5Z4m0krw9oD"
      },
      "execution_count": null,
      "outputs": []
    },
    {
      "cell_type": "code",
      "source": [
        "data_path = \"/content/train.csv\""
      ],
      "metadata": {
        "id": "L7ek6CRjw9wF"
      },
      "execution_count": null,
      "outputs": []
    },
    {
      "cell_type": "code",
      "source": [
        "titanic_df = spark.read.csv(data_path,header = 'True',inferSchema='True')"
      ],
      "metadata": {
        "id": "jgZVb7CQw9zN"
      },
      "execution_count": null,
      "outputs": []
    },
    {
      "cell_type": "code",
      "source": [
        "passengers_count = titanic_df.count()"
      ],
      "metadata": {
        "id": "svl-87ivw92E"
      },
      "execution_count": null,
      "outputs": []
    },
    {
      "cell_type": "code",
      "source": [
        "print(passengers_count)"
      ],
      "metadata": {
        "colab": {
          "base_uri": "https://localhost:8080/"
        },
        "id": "3-2NBobPw948",
        "outputId": "bc61c520-2981-4348-bf64-6696d4d1d432"
      },
      "execution_count": null,
      "outputs": [
        {
          "output_type": "stream",
          "name": "stdout",
          "text": [
            "891\n"
          ]
        }
      ]
    },
    {
      "cell_type": "code",
      "source": [
        "titanic_df.show(5)"
      ],
      "metadata": {
        "colab": {
          "base_uri": "https://localhost:8080/"
        },
        "id": "_X_Lr03ww97z",
        "outputId": "80eb95d8-c638-4b17-99fe-f7e9bc34ae48"
      },
      "execution_count": null,
      "outputs": [
        {
          "output_type": "stream",
          "name": "stdout",
          "text": [
            "+-----------+--------+------+--------------------+------+----+-----+-----+----------------+-------+-----+--------+\n",
            "|PassengerId|Survived|Pclass|                Name|   Sex| Age|SibSp|Parch|          Ticket|   Fare|Cabin|Embarked|\n",
            "+-----------+--------+------+--------------------+------+----+-----+-----+----------------+-------+-----+--------+\n",
            "|          1|       0|     3|Braund, Mr. Owen ...|  male|22.0|    1|    0|       A/5 21171|   7.25| null|       S|\n",
            "|          2|       1|     1|Cumings, Mrs. Joh...|female|38.0|    1|    0|        PC 17599|71.2833|  C85|       C|\n",
            "|          3|       1|     3|Heikkinen, Miss. ...|female|26.0|    0|    0|STON/O2. 3101282|  7.925| null|       S|\n",
            "|          4|       1|     1|Futrelle, Mrs. Ja...|female|35.0|    1|    0|          113803|   53.1| C123|       S|\n",
            "|          5|       0|     3|Allen, Mr. Willia...|  male|35.0|    0|    0|          373450|   8.05| null|       S|\n",
            "+-----------+--------+------+--------------------+------+----+-----+-----+----------------+-------+-----+--------+\n",
            "only showing top 5 rows\n",
            "\n"
          ]
        }
      ]
    },
    {
      "cell_type": "code",
      "source": [
        "titanic_df.describe().show()"
      ],
      "metadata": {
        "colab": {
          "base_uri": "https://localhost:8080/"
        },
        "id": "LhBT8lsxw9-q",
        "outputId": "e391fb31-f39e-4a34-e983-9274876b6257"
      },
      "execution_count": null,
      "outputs": [
        {
          "output_type": "stream",
          "name": "stdout",
          "text": [
            "+-------+-----------------+-------------------+------------------+--------------------+------+------------------+------------------+-------------------+------------------+-----------------+-----+--------+\n",
            "|summary|      PassengerId|           Survived|            Pclass|                Name|   Sex|               Age|             SibSp|              Parch|            Ticket|             Fare|Cabin|Embarked|\n",
            "+-------+-----------------+-------------------+------------------+--------------------+------+------------------+------------------+-------------------+------------------+-----------------+-----+--------+\n",
            "|  count|              891|                891|               891|                 891|   891|               714|               891|                891|               891|              891|  204|     889|\n",
            "|   mean|            446.0| 0.3838383838383838| 2.308641975308642|                null|  null| 29.69911764705882|0.5230078563411896|0.38159371492704824|260318.54916792738| 32.2042079685746| null|    null|\n",
            "| stddev|257.3538420152301|0.48659245426485753|0.8360712409770491|                null|  null|14.526497332334035|1.1027434322934315| 0.8060572211299488|471609.26868834975|49.69342859718089| null|    null|\n",
            "|    min|                1|                  0|                 1|\"Andersson, Mr. A...|female|              0.42|                 0|                  0|            110152|              0.0|  A10|       C|\n",
            "|    max|              891|                  1|                 3|van Melkebeke, Mr...|  male|              80.0|                 8|                  6|         WE/P 5735|         512.3292|    T|       S|\n",
            "+-------+-----------------+-------------------+------------------+--------------------+------+------------------+------------------+-------------------+------------------+-----------------+-----+--------+\n",
            "\n"
          ]
        }
      ]
    },
    {
      "cell_type": "code",
      "source": [
        "titanic_df.printSchema()"
      ],
      "metadata": {
        "colab": {
          "base_uri": "https://localhost:8080/"
        },
        "id": "ini8uJWxw-BA",
        "outputId": "071bb5e4-cba4-488f-fc75-433f845741a1"
      },
      "execution_count": null,
      "outputs": [
        {
          "output_type": "stream",
          "name": "stdout",
          "text": [
            "root\n",
            " |-- PassengerId: integer (nullable = true)\n",
            " |-- Survived: integer (nullable = true)\n",
            " |-- Pclass: integer (nullable = true)\n",
            " |-- Name: string (nullable = true)\n",
            " |-- Sex: string (nullable = true)\n",
            " |-- Age: double (nullable = true)\n",
            " |-- SibSp: integer (nullable = true)\n",
            " |-- Parch: integer (nullable = true)\n",
            " |-- Ticket: string (nullable = true)\n",
            " |-- Fare: double (nullable = true)\n",
            " |-- Cabin: string (nullable = true)\n",
            " |-- Embarked: string (nullable = true)\n",
            "\n"
          ]
        }
      ]
    },
    {
      "cell_type": "code",
      "source": [
        "titanic_df.select(\"Survived\",\"Pclass\",\"Embarked\").show()"
      ],
      "metadata": {
        "colab": {
          "base_uri": "https://localhost:8080/"
        },
        "id": "87Cld2IIw-Dn",
        "outputId": "4206e300-0df1-4198-d31d-32528e7411a8"
      },
      "execution_count": null,
      "outputs": [
        {
          "output_type": "stream",
          "name": "stdout",
          "text": [
            "+--------+------+--------+\n",
            "|Survived|Pclass|Embarked|\n",
            "+--------+------+--------+\n",
            "|       0|     3|       S|\n",
            "|       1|     1|       C|\n",
            "|       1|     3|       S|\n",
            "|       1|     1|       S|\n",
            "|       0|     3|       S|\n",
            "|       0|     3|       Q|\n",
            "|       0|     1|       S|\n",
            "|       0|     3|       S|\n",
            "|       1|     3|       S|\n",
            "|       1|     2|       C|\n",
            "|       1|     3|       S|\n",
            "|       1|     1|       S|\n",
            "|       0|     3|       S|\n",
            "|       0|     3|       S|\n",
            "|       0|     3|       S|\n",
            "|       1|     2|       S|\n",
            "|       0|     3|       Q|\n",
            "|       1|     2|       S|\n",
            "|       0|     3|       S|\n",
            "|       1|     3|       C|\n",
            "+--------+------+--------+\n",
            "only showing top 20 rows\n",
            "\n"
          ]
        }
      ]
    },
    {
      "cell_type": "code",
      "source": [
        "titanic_df.groupBy(\"Survived\").count().show()"
      ],
      "metadata": {
        "colab": {
          "base_uri": "https://localhost:8080/"
        },
        "id": "fJT_VxTow-Gf",
        "outputId": "49adc087-6e2b-4071-ce01-a87e824184e6"
      },
      "execution_count": null,
      "outputs": [
        {
          "output_type": "stream",
          "name": "stdout",
          "text": [
            "+--------+-----+\n",
            "|Survived|count|\n",
            "+--------+-----+\n",
            "|       1|  342|\n",
            "|       0|  549|\n",
            "+--------+-----+\n",
            "\n"
          ]
        }
      ]
    },
    {
      "cell_type": "code",
      "source": [
        "titanic_df.groupBy(\"Sex\",\"Survived\").count().show()"
      ],
      "metadata": {
        "colab": {
          "base_uri": "https://localhost:8080/"
        },
        "id": "qkqkx7Apw-JF",
        "outputId": "d990ed88-da2e-47f3-890a-3b7d5c37ffc3"
      },
      "execution_count": null,
      "outputs": [
        {
          "output_type": "stream",
          "name": "stdout",
          "text": [
            "+------+--------+-----+\n",
            "|   Sex|Survived|count|\n",
            "+------+--------+-----+\n",
            "|  male|       0|  468|\n",
            "|female|       1|  233|\n",
            "|female|       0|   81|\n",
            "|  male|       1|  109|\n",
            "+------+--------+-----+\n",
            "\n"
          ]
        }
      ]
    },
    {
      "cell_type": "code",
      "source": [
        "titanic_df.groupBy(\"Pclass\",\"Survived\").count().show()"
      ],
      "metadata": {
        "colab": {
          "base_uri": "https://localhost:8080/"
        },
        "id": "9g7f5aCZw-MN",
        "outputId": "180f8af0-0947-4287-e254-b018f9649548"
      },
      "execution_count": null,
      "outputs": [
        {
          "output_type": "stream",
          "name": "stdout",
          "text": [
            "+------+--------+-----+\n",
            "|Pclass|Survived|count|\n",
            "+------+--------+-----+\n",
            "|     1|       0|   80|\n",
            "|     3|       1|  119|\n",
            "|     1|       1|  136|\n",
            "|     2|       1|   87|\n",
            "|     2|       0|   97|\n",
            "|     3|       0|  372|\n",
            "+------+--------+-----+\n",
            "\n"
          ]
        }
      ]
    },
    {
      "cell_type": "markdown",
      "source": [
        "Checking Null values"
      ],
      "metadata": {
        "id": "HmyvNdyL2D6j"
      }
    },
    {
      "cell_type": "code",
      "source": [
        "# This function use to print feature with null values and null count \n",
        "def null_value_count(df):\n",
        "  null_columns_counts = []\n",
        "  numRows = df.count()\n",
        "  for k in df.columns:\n",
        "    nullRows = df.where(col(k).isNull()).count()\n",
        "    if(nullRows > 0):\n",
        "      temp = k,nullRows\n",
        "      null_columns_counts.append(temp)\n",
        "  return(null_columns_counts)"
      ],
      "metadata": {
        "id": "CRyG8WUSw-PE"
      },
      "execution_count": null,
      "outputs": []
    },
    {
      "cell_type": "code",
      "source": [
        "# Calling function\n",
        "null_columns_count_list = null_value_count(titanic_df)"
      ],
      "metadata": {
        "id": "PnaU6GpTw-Rr"
      },
      "execution_count": null,
      "outputs": []
    },
    {
      "cell_type": "code",
      "source": [
        "null_columns_count_list"
      ],
      "metadata": {
        "colab": {
          "base_uri": "https://localhost:8080/"
        },
        "id": "GsiBl4pMFsdF",
        "outputId": "08442dea-e6f4-4db0-ddeb-d9e8f09136dd"
      },
      "execution_count": null,
      "outputs": [
        {
          "output_type": "execute_result",
          "data": {
            "text/plain": [
              "[('Age', 177), ('Cabin', 687), ('Embarked', 2)]"
            ]
          },
          "metadata": {},
          "execution_count": 17
        }
      ]
    },
    {
      "cell_type": "code",
      "source": [
        "spark.createDataFrame(null_columns_count_list, ['Column_With_Null_Value', 'Null_Values_Count']).show()"
      ],
      "metadata": {
        "colab": {
          "base_uri": "https://localhost:8080/"
        },
        "id": "wmVMRtaQw-Ui",
        "outputId": "72654352-bcb1-4918-f6a2-4380788135e4"
      },
      "execution_count": null,
      "outputs": [
        {
          "output_type": "stream",
          "name": "stdout",
          "text": [
            "+----------------------+-----------------+\n",
            "|Column_With_Null_Value|Null_Values_Count|\n",
            "+----------------------+-----------------+\n",
            "|                   Age|              177|\n",
            "|                 Cabin|              687|\n",
            "|              Embarked|                2|\n",
            "+----------------------+-----------------+\n",
            "\n"
          ]
        }
      ]
    },
    {
      "cell_type": "code",
      "source": [
        "mean_age = titanic_df.select(mean('Age')).collect()[0][0]\n",
        "print(mean_age)"
      ],
      "metadata": {
        "colab": {
          "base_uri": "https://localhost:8080/"
        },
        "id": "xn2fBoyFw-Xq",
        "outputId": "0955a88f-73fa-45a5-8388-f42b2824b8f3"
      },
      "execution_count": null,
      "outputs": [
        {
          "output_type": "stream",
          "name": "stdout",
          "text": [
            "29.69911764705882\n"
          ]
        }
      ]
    },
    {
      "cell_type": "markdown",
      "source": [
        "To replace these NaN values, we can assign them the mean age of the dataset.But the problem is, there were many people with many different ages. We just cant assign a 4 year kid with the mean age that is 29 years.\n",
        "\n",
        "we can check the Name feature. Looking upon the feature, we can see that the names have a salutation like Mr or Mrs. Thus we can assign the mean values of Mr and Mrs to the respective groups\n",
        "\n"
      ],
      "metadata": {
        "id": "4g7MD7ZKMYRI"
      }
    },
    {
      "cell_type": "code",
      "source": [
        "titanic_df = titanic_df.withColumn(\"Initial\",regexp_extract(col(\"Name\"),\"([A-Za-z]+)\\.\",1))"
      ],
      "metadata": {
        "id": "OJlYz6xJw-Zw"
      },
      "execution_count": null,
      "outputs": []
    },
    {
      "cell_type": "code",
      "source": [
        "\n",
        "titanic_df.show()"
      ],
      "metadata": {
        "colab": {
          "base_uri": "https://localhost:8080/"
        },
        "id": "_ubD3A0jw-c4",
        "outputId": "4ca215df-ddeb-4880-8f99-c77ced99fde0"
      },
      "execution_count": null,
      "outputs": [
        {
          "output_type": "stream",
          "name": "stdout",
          "text": [
            "+-----------+--------+------+--------------------+------+----+-----+-----+----------------+-------+-----+--------+-------+\n",
            "|PassengerId|Survived|Pclass|                Name|   Sex| Age|SibSp|Parch|          Ticket|   Fare|Cabin|Embarked|Initial|\n",
            "+-----------+--------+------+--------------------+------+----+-----+-----+----------------+-------+-----+--------+-------+\n",
            "|          1|       0|     3|Braund, Mr. Owen ...|  male|22.0|    1|    0|       A/5 21171|   7.25| null|       S|     Mr|\n",
            "|          2|       1|     1|Cumings, Mrs. Joh...|female|38.0|    1|    0|        PC 17599|71.2833|  C85|       C|    Mrs|\n",
            "|          3|       1|     3|Heikkinen, Miss. ...|female|26.0|    0|    0|STON/O2. 3101282|  7.925| null|       S|   Miss|\n",
            "|          4|       1|     1|Futrelle, Mrs. Ja...|female|35.0|    1|    0|          113803|   53.1| C123|       S|    Mrs|\n",
            "|          5|       0|     3|Allen, Mr. Willia...|  male|35.0|    0|    0|          373450|   8.05| null|       S|     Mr|\n",
            "|          6|       0|     3|    Moran, Mr. James|  male|null|    0|    0|          330877| 8.4583| null|       Q|     Mr|\n",
            "|          7|       0|     1|McCarthy, Mr. Tim...|  male|54.0|    0|    0|           17463|51.8625|  E46|       S|     Mr|\n",
            "|          8|       0|     3|Palsson, Master. ...|  male| 2.0|    3|    1|          349909| 21.075| null|       S| Master|\n",
            "|          9|       1|     3|Johnson, Mrs. Osc...|female|27.0|    0|    2|          347742|11.1333| null|       S|    Mrs|\n",
            "|         10|       1|     2|Nasser, Mrs. Nich...|female|14.0|    1|    0|          237736|30.0708| null|       C|    Mrs|\n",
            "|         11|       1|     3|Sandstrom, Miss. ...|female| 4.0|    1|    1|         PP 9549|   16.7|   G6|       S|   Miss|\n",
            "|         12|       1|     1|Bonnell, Miss. El...|female|58.0|    0|    0|          113783|  26.55| C103|       S|   Miss|\n",
            "|         13|       0|     3|Saundercock, Mr. ...|  male|20.0|    0|    0|       A/5. 2151|   8.05| null|       S|     Mr|\n",
            "|         14|       0|     3|Andersson, Mr. An...|  male|39.0|    1|    5|          347082| 31.275| null|       S|     Mr|\n",
            "|         15|       0|     3|Vestrom, Miss. Hu...|female|14.0|    0|    0|          350406| 7.8542| null|       S|   Miss|\n",
            "|         16|       1|     2|Hewlett, Mrs. (Ma...|female|55.0|    0|    0|          248706|   16.0| null|       S|    Mrs|\n",
            "|         17|       0|     3|Rice, Master. Eugene|  male| 2.0|    4|    1|          382652| 29.125| null|       Q| Master|\n",
            "|         18|       1|     2|Williams, Mr. Cha...|  male|null|    0|    0|          244373|   13.0| null|       S|     Mr|\n",
            "|         19|       0|     3|Vander Planke, Mr...|female|31.0|    1|    0|          345763|   18.0| null|       S|    Mrs|\n",
            "|         20|       1|     3|Masselmani, Mrs. ...|female|null|    0|    0|            2649|  7.225| null|       C|    Mrs|\n",
            "+-----------+--------+------+--------------------+------+----+-----+-----+----------------+-------+-----+--------+-------+\n",
            "only showing top 20 rows\n",
            "\n"
          ]
        }
      ]
    },
    {
      "cell_type": "code",
      "source": [
        "titanic_df.select(\"Initial\").distinct().show()"
      ],
      "metadata": {
        "colab": {
          "base_uri": "https://localhost:8080/"
        },
        "id": "T1EmoBUb2jdo",
        "outputId": "22b7c3f5-3fb7-41e6-e163-346cf8182051"
      },
      "execution_count": null,
      "outputs": [
        {
          "output_type": "stream",
          "name": "stdout",
          "text": [
            "+--------+\n",
            "| Initial|\n",
            "+--------+\n",
            "|     Don|\n",
            "|    Miss|\n",
            "|Countess|\n",
            "|     Col|\n",
            "|     Rev|\n",
            "|    Lady|\n",
            "|  Master|\n",
            "|     Mme|\n",
            "|    Capt|\n",
            "|      Mr|\n",
            "|      Dr|\n",
            "|     Mrs|\n",
            "|     Sir|\n",
            "|Jonkheer|\n",
            "|    Mlle|\n",
            "|   Major|\n",
            "|      Ms|\n",
            "+--------+\n",
            "\n"
          ]
        }
      ]
    },
    {
      "cell_type": "code",
      "source": [
        "titanic_df.select(\"Initial\").distinct().show()"
      ],
      "metadata": {
        "colab": {
          "base_uri": "https://localhost:8080/"
        },
        "id": "dDKNT2Is8ZbR",
        "outputId": "69103c04-0ca3-4427-c921-db4bf6e6b252"
      },
      "execution_count": null,
      "outputs": [
        {
          "output_type": "stream",
          "name": "stdout",
          "text": [
            "+--------+\n",
            "| Initial|\n",
            "+--------+\n",
            "|     Don|\n",
            "|    Miss|\n",
            "|Countess|\n",
            "|     Col|\n",
            "|     Rev|\n",
            "|    Lady|\n",
            "|  Master|\n",
            "|     Mme|\n",
            "|    Capt|\n",
            "|      Mr|\n",
            "|      Dr|\n",
            "|     Mrs|\n",
            "|     Sir|\n",
            "|Jonkheer|\n",
            "|    Mlle|\n",
            "|   Major|\n",
            "|      Ms|\n",
            "+--------+\n",
            "\n"
          ]
        }
      ]
    },
    {
      "cell_type": "code",
      "source": [
        "titanic_df = titanic_df.replace(['Mlle','Mme', 'Ms', 'Dr','Major','Lady','Countess','Jonkheer','Col','Rev','Capt','Sir','Don'],\n",
        "               ['Miss','Miss','Miss','Mr','Mr',  'Mrs',  'Mrs',  'Other',  'Other','Other','Mr','Mr','Mr'])"
      ],
      "metadata": {
        "id": "ugYP2p512n_Y"
      },
      "execution_count": null,
      "outputs": []
    },
    {
      "cell_type": "code",
      "source": [
        "titanic_df.select(\"Initial\").distinct().show()"
      ],
      "metadata": {
        "colab": {
          "base_uri": "https://localhost:8080/"
        },
        "id": "lyXgl0hD2qwa",
        "outputId": "6314a7ab-ea49-4e57-8bb9-b206630af8db"
      },
      "execution_count": null,
      "outputs": [
        {
          "output_type": "stream",
          "name": "stdout",
          "text": [
            "+-------+\n",
            "|Initial|\n",
            "+-------+\n",
            "|   Miss|\n",
            "|  Other|\n",
            "| Master|\n",
            "|     Mr|\n",
            "|    Mrs|\n",
            "+-------+\n",
            "\n"
          ]
        }
      ]
    },
    {
      "cell_type": "code",
      "source": [
        "titanic_df.groupby('Initial').avg('Age').collect()"
      ],
      "metadata": {
        "colab": {
          "base_uri": "https://localhost:8080/"
        },
        "id": "HqIkfbys2svs",
        "outputId": "9ba307b8-819e-4596-89ce-98de0ffaa765"
      },
      "execution_count": null,
      "outputs": [
        {
          "output_type": "execute_result",
          "data": {
            "text/plain": [
              "[Row(Initial='Miss', avg(Age)=21.86),\n",
              " Row(Initial='Other', avg(Age)=45.888888888888886),\n",
              " Row(Initial='Master', avg(Age)=4.574166666666667),\n",
              " Row(Initial='Mr', avg(Age)=32.73960880195599),\n",
              " Row(Initial='Mrs', avg(Age)=35.981818181818184)]"
            ]
          },
          "metadata": {},
          "execution_count": 27
        }
      ]
    },
    {
      "cell_type": "markdown",
      "source": [
        "\n",
        "Let's impute missing values in age feature based on average age of Initials"
      ],
      "metadata": {
        "id": "fbtwyRrRH1Gy"
      }
    },
    {
      "cell_type": "code",
      "source": [
        "titanic_df = titanic_df.withColumn(\"Age\",when((titanic_df[\"Initial\"] == \"Miss\") & (titanic_df[\"Age\"].isNull()), 22).otherwise(titanic_df[\"Age\"]))\n",
        "titanic_df = titanic_df.withColumn(\"Age\",when((titanic_df[\"Initial\"] == \"Other\") & (titanic_df[\"Age\"].isNull()), 46).otherwise(titanic_df[\"Age\"]))\n",
        "titanic_df = titanic_df.withColumn(\"Age\",when((titanic_df[\"Initial\"] == \"Master\") & (titanic_df[\"Age\"].isNull()), 5).otherwise(titanic_df[\"Age\"]))\n",
        "titanic_df = titanic_df.withColumn(\"Age\",when((titanic_df[\"Initial\"] == \"Mr\") & (titanic_df[\"Age\"].isNull()), 33).otherwise(titanic_df[\"Age\"]))\n",
        "titanic_df = titanic_df.withColumn(\"Age\",when((titanic_df[\"Initial\"] == \"Mrs\") & (titanic_df[\"Age\"].isNull()), 36).otherwise(titanic_df[\"Age\"]))"
      ],
      "metadata": {
        "id": "_1tjdD6v2wFK"
      },
      "execution_count": null,
      "outputs": []
    },
    {
      "cell_type": "code",
      "source": [
        "titanic_df.filter(titanic_df.Age==46).select(\"Initial\").show()\n"
      ],
      "metadata": {
        "colab": {
          "base_uri": "https://localhost:8080/"
        },
        "id": "f8CC-mnE3Lth",
        "outputId": "7c90b9ea-307a-48e8-91ff-194acba269ad"
      },
      "execution_count": null,
      "outputs": [
        {
          "output_type": "stream",
          "name": "stdout",
          "text": [
            "+-------+\n",
            "|Initial|\n",
            "+-------+\n",
            "|     Mr|\n",
            "|     Mr|\n",
            "|     Mr|\n",
            "+-------+\n",
            "\n"
          ]
        }
      ]
    },
    {
      "cell_type": "code",
      "source": [
        "titanic_df.select(\"Age\").show()"
      ],
      "metadata": {
        "colab": {
          "base_uri": "https://localhost:8080/"
        },
        "id": "U_7FOrr23OIL",
        "outputId": "60dbe9bb-a490-4009-9b4d-182ee2338b59"
      },
      "execution_count": null,
      "outputs": [
        {
          "output_type": "stream",
          "name": "stdout",
          "text": [
            "+----+\n",
            "| Age|\n",
            "+----+\n",
            "|22.0|\n",
            "|38.0|\n",
            "|26.0|\n",
            "|35.0|\n",
            "|35.0|\n",
            "|33.0|\n",
            "|54.0|\n",
            "| 2.0|\n",
            "|27.0|\n",
            "|14.0|\n",
            "| 4.0|\n",
            "|58.0|\n",
            "|20.0|\n",
            "|39.0|\n",
            "|14.0|\n",
            "|55.0|\n",
            "| 2.0|\n",
            "|33.0|\n",
            "|31.0|\n",
            "|36.0|\n",
            "+----+\n",
            "only showing top 20 rows\n",
            "\n"
          ]
        }
      ]
    },
    {
      "cell_type": "code",
      "source": [
        "titanic_df.groupBy(\"Embarked\").count().show()"
      ],
      "metadata": {
        "colab": {
          "base_uri": "https://localhost:8080/"
        },
        "id": "OPc-U5bz3UrK",
        "outputId": "6661f787-5f8a-4343-ab90-b7f68235be65"
      },
      "execution_count": null,
      "outputs": [
        {
          "output_type": "stream",
          "name": "stdout",
          "text": [
            "+--------+-----+\n",
            "|Embarked|count|\n",
            "+--------+-----+\n",
            "|       Q|   77|\n",
            "|    null|    2|\n",
            "|       C|  168|\n",
            "|       S|  644|\n",
            "+--------+-----+\n",
            "\n"
          ]
        }
      ]
    },
    {
      "cell_type": "code",
      "source": [
        "titanic_df = titanic_df.na.fill({\"Embarked\" : 'S'})"
      ],
      "metadata": {
        "id": "3YE-bm783YD-"
      },
      "execution_count": null,
      "outputs": []
    },
    {
      "cell_type": "markdown",
      "source": [
        "We can drop Cabin features as it has lots of null values"
      ],
      "metadata": {
        "id": "Efkv8Y_TL8I5"
      }
    },
    {
      "cell_type": "code",
      "source": [
        "titanic_df = titanic_df.drop(\"Cabin\")"
      ],
      "metadata": {
        "id": "OsSupP9m3u9Z"
      },
      "execution_count": null,
      "outputs": []
    },
    {
      "cell_type": "code",
      "source": [
        "titanic_df.printSchema()"
      ],
      "metadata": {
        "colab": {
          "base_uri": "https://localhost:8080/"
        },
        "id": "LUi4lStj3vao",
        "outputId": "e034aea8-5561-4b28-a851-e9609b9a9129"
      },
      "execution_count": null,
      "outputs": [
        {
          "output_type": "stream",
          "name": "stdout",
          "text": [
            "root\n",
            " |-- PassengerId: integer (nullable = true)\n",
            " |-- Survived: integer (nullable = true)\n",
            " |-- Pclass: integer (nullable = true)\n",
            " |-- Name: string (nullable = true)\n",
            " |-- Sex: string (nullable = true)\n",
            " |-- Age: double (nullable = true)\n",
            " |-- SibSp: integer (nullable = true)\n",
            " |-- Parch: integer (nullable = true)\n",
            " |-- Ticket: string (nullable = true)\n",
            " |-- Fare: double (nullable = true)\n",
            " |-- Embarked: string (nullable = false)\n",
            " |-- Initial: string (nullable = true)\n",
            "\n"
          ]
        }
      ]
    },
    {
      "cell_type": "markdown",
      "source": [
        "We can create a new feature called \"Family_size\" and \"Alone\" and analyse it. This feature is the summation of Parch(parents/children) and SibSp(siblings/spouses). It gives us a combined data so that we can check if survival rate have anything to do with family size of the passengers"
      ],
      "metadata": {
        "id": "zcxYJsyAL3gR"
      }
    },
    {
      "cell_type": "code",
      "source": [
        "titanic_df = titanic_df.withColumn(\"Family_Size\",col('SibSp')+col('Parch'))"
      ],
      "metadata": {
        "id": "7PkdcTf035Kw"
      },
      "execution_count": null,
      "outputs": []
    },
    {
      "cell_type": "code",
      "source": [
        "titanic_df.groupBy(\"Family_Size\").count().show()"
      ],
      "metadata": {
        "colab": {
          "base_uri": "https://localhost:8080/"
        },
        "id": "tn5ReNFH35TD",
        "outputId": "5a46746e-b5a5-484d-f6e7-e4ae9a0f3b78"
      },
      "execution_count": null,
      "outputs": [
        {
          "output_type": "stream",
          "name": "stdout",
          "text": [
            "+-----------+-----+\n",
            "|Family_Size|count|\n",
            "+-----------+-----+\n",
            "|          1|  161|\n",
            "|          6|   12|\n",
            "|          3|   29|\n",
            "|          5|   22|\n",
            "|          4|   15|\n",
            "|          7|    6|\n",
            "|         10|    7|\n",
            "|          2|  102|\n",
            "|          0|  537|\n",
            "+-----------+-----+\n",
            "\n"
          ]
        }
      ]
    },
    {
      "cell_type": "code",
      "source": [
        "titanic_df = titanic_df.withColumn('Alone',lit(0))"
      ],
      "metadata": {
        "id": "GGpRzKWi35V6"
      },
      "execution_count": null,
      "outputs": []
    },
    {
      "cell_type": "code",
      "source": [
        "titanic_df.show(5)"
      ],
      "metadata": {
        "colab": {
          "base_uri": "https://localhost:8080/"
        },
        "id": "Dxe_9rZhI69y",
        "outputId": "a9da0e7a-9643-47ed-c12a-baea22a70038"
      },
      "execution_count": null,
      "outputs": [
        {
          "output_type": "stream",
          "name": "stdout",
          "text": [
            "+-----------+--------+------+--------------------+------+----+-----+-----+----------------+-------+--------+-------+-----------+-----+\n",
            "|PassengerId|Survived|Pclass|                Name|   Sex| Age|SibSp|Parch|          Ticket|   Fare|Embarked|Initial|Family_Size|Alone|\n",
            "+-----------+--------+------+--------------------+------+----+-----+-----+----------------+-------+--------+-------+-----------+-----+\n",
            "|          1|       0|     3|Braund, Mr. Owen ...|  male|22.0|    1|    0|       A/5 21171|   7.25|       S|     Mr|          1|    0|\n",
            "|          2|       1|     1|Cumings, Mrs. Joh...|female|38.0|    1|    0|        PC 17599|71.2833|       C|    Mrs|          1|    0|\n",
            "|          3|       1|     3|Heikkinen, Miss. ...|female|26.0|    0|    0|STON/O2. 3101282|  7.925|       S|   Miss|          0|    0|\n",
            "|          4|       1|     1|Futrelle, Mrs. Ja...|female|35.0|    1|    0|          113803|   53.1|       S|    Mrs|          1|    0|\n",
            "|          5|       0|     3|Allen, Mr. Willia...|  male|35.0|    0|    0|          373450|   8.05|       S|     Mr|          0|    0|\n",
            "+-----------+--------+------+--------------------+------+----+-----+-----+----------------+-------+--------+-------+-----------+-----+\n",
            "only showing top 5 rows\n",
            "\n"
          ]
        }
      ]
    },
    {
      "cell_type": "code",
      "source": [
        "titanic_df = titanic_df.withColumn(\"Alone\",when(titanic_df[\"Family_Size\"] == 0, 1).otherwise(titanic_df[\"Alone\"]))"
      ],
      "metadata": {
        "id": "amnq3om835Yy"
      },
      "execution_count": null,
      "outputs": []
    },
    {
      "cell_type": "code",
      "source": [
        "titanic_df.columns"
      ],
      "metadata": {
        "colab": {
          "base_uri": "https://localhost:8080/"
        },
        "id": "_ti-ru8x35bY",
        "outputId": "98d095fa-536a-43dc-e211-e64ec4fd54c7"
      },
      "execution_count": null,
      "outputs": [
        {
          "output_type": "execute_result",
          "data": {
            "text/plain": [
              "['PassengerId',\n",
              " 'Survived',\n",
              " 'Pclass',\n",
              " 'Name',\n",
              " 'Sex',\n",
              " 'Age',\n",
              " 'SibSp',\n",
              " 'Parch',\n",
              " 'Ticket',\n",
              " 'Fare',\n",
              " 'Embarked',\n",
              " 'Initial',\n",
              " 'Family_Size',\n",
              " 'Alone']"
            ]
          },
          "metadata": {},
          "execution_count": 40
        }
      ]
    },
    {
      "cell_type": "code",
      "source": [
        "titanic_df.show(5)"
      ],
      "metadata": {
        "colab": {
          "base_uri": "https://localhost:8080/"
        },
        "id": "kYMJqwbSJBBl",
        "outputId": "bc6ead7b-26d0-48e5-ec92-cd21ff67bdc7"
      },
      "execution_count": null,
      "outputs": [
        {
          "output_type": "stream",
          "name": "stdout",
          "text": [
            "+-----------+--------+------+--------------------+------+----+-----+-----+----------------+-------+--------+-------+-----------+-----+\n",
            "|PassengerId|Survived|Pclass|                Name|   Sex| Age|SibSp|Parch|          Ticket|   Fare|Embarked|Initial|Family_Size|Alone|\n",
            "+-----------+--------+------+--------------------+------+----+-----+-----+----------------+-------+--------+-------+-----------+-----+\n",
            "|          1|       0|     3|Braund, Mr. Owen ...|  male|22.0|    1|    0|       A/5 21171|   7.25|       S|     Mr|          1|    0|\n",
            "|          2|       1|     1|Cumings, Mrs. Joh...|female|38.0|    1|    0|        PC 17599|71.2833|       C|    Mrs|          1|    0|\n",
            "|          3|       1|     3|Heikkinen, Miss. ...|female|26.0|    0|    0|STON/O2. 3101282|  7.925|       S|   Miss|          0|    1|\n",
            "|          4|       1|     1|Futrelle, Mrs. Ja...|female|35.0|    1|    0|          113803|   53.1|       S|    Mrs|          1|    0|\n",
            "|          5|       0|     3|Allen, Mr. Willia...|  male|35.0|    0|    0|          373450|   8.05|       S|     Mr|          0|    1|\n",
            "+-----------+--------+------+--------------------+------+----+-----+-----+----------------+-------+--------+-------+-----------+-----+\n",
            "only showing top 5 rows\n",
            "\n"
          ]
        }
      ]
    },
    {
      "cell_type": "markdown",
      "source": [
        "Lets convert Sex, Embarked & Initial columns from string to number using StringIndexer"
      ],
      "metadata": {
        "id": "zMSpm93XJWbN"
      }
    },
    {
      "cell_type": "code",
      "source": [
        "indexers = [StringIndexer(inputCol=column, outputCol=column+\"_index\").fit(titanic_df) for column in [\"Sex\",\"Embarked\",\"Initial\"]]\n",
        "pipeline = Pipeline(stages=indexers)\n",
        "titanic_df = pipeline.fit(titanic_df).transform(titanic_df)"
      ],
      "metadata": {
        "id": "RFdMquBu35du"
      },
      "execution_count": null,
      "outputs": []
    },
    {
      "cell_type": "code",
      "source": [
        "titanic_df.show()"
      ],
      "metadata": {
        "colab": {
          "base_uri": "https://localhost:8080/"
        },
        "id": "HkrA06Pl35gV",
        "outputId": "23fdf2c0-cac9-4bc2-f29c-9076d4cb0fdd"
      },
      "execution_count": null,
      "outputs": [
        {
          "output_type": "stream",
          "name": "stdout",
          "text": [
            "+-----------+--------+------+--------------------+------+----+-----+-----+----------------+-------+--------+-------+-----------+-----+---------+--------------+-------------+\n",
            "|PassengerId|Survived|Pclass|                Name|   Sex| Age|SibSp|Parch|          Ticket|   Fare|Embarked|Initial|Family_Size|Alone|Sex_index|Embarked_index|Initial_index|\n",
            "+-----------+--------+------+--------------------+------+----+-----+-----+----------------+-------+--------+-------+-----------+-----+---------+--------------+-------------+\n",
            "|          1|       0|     3|Braund, Mr. Owen ...|  male|22.0|    1|    0|       A/5 21171|   7.25|       S|     Mr|          1|    0|      0.0|           0.0|          0.0|\n",
            "|          2|       1|     1|Cumings, Mrs. Joh...|female|38.0|    1|    0|        PC 17599|71.2833|       C|    Mrs|          1|    0|      1.0|           1.0|          2.0|\n",
            "|          3|       1|     3|Heikkinen, Miss. ...|female|26.0|    0|    0|STON/O2. 3101282|  7.925|       S|   Miss|          0|    1|      1.0|           0.0|          1.0|\n",
            "|          4|       1|     1|Futrelle, Mrs. Ja...|female|35.0|    1|    0|          113803|   53.1|       S|    Mrs|          1|    0|      1.0|           0.0|          2.0|\n",
            "|          5|       0|     3|Allen, Mr. Willia...|  male|35.0|    0|    0|          373450|   8.05|       S|     Mr|          0|    1|      0.0|           0.0|          0.0|\n",
            "|          6|       0|     3|    Moran, Mr. James|  male|33.0|    0|    0|          330877| 8.4583|       Q|     Mr|          0|    1|      0.0|           2.0|          0.0|\n",
            "|          7|       0|     1|McCarthy, Mr. Tim...|  male|54.0|    0|    0|           17463|51.8625|       S|     Mr|          0|    1|      0.0|           0.0|          0.0|\n",
            "|          8|       0|     3|Palsson, Master. ...|  male| 2.0|    3|    1|          349909| 21.075|       S| Master|          4|    0|      0.0|           0.0|          3.0|\n",
            "|          9|       1|     3|Johnson, Mrs. Osc...|female|27.0|    0|    2|          347742|11.1333|       S|    Mrs|          2|    0|      1.0|           0.0|          2.0|\n",
            "|         10|       1|     2|Nasser, Mrs. Nich...|female|14.0|    1|    0|          237736|30.0708|       C|    Mrs|          1|    0|      1.0|           1.0|          2.0|\n",
            "|         11|       1|     3|Sandstrom, Miss. ...|female| 4.0|    1|    1|         PP 9549|   16.7|       S|   Miss|          2|    0|      1.0|           0.0|          1.0|\n",
            "|         12|       1|     1|Bonnell, Miss. El...|female|58.0|    0|    0|          113783|  26.55|       S|   Miss|          0|    1|      1.0|           0.0|          1.0|\n",
            "|         13|       0|     3|Saundercock, Mr. ...|  male|20.0|    0|    0|       A/5. 2151|   8.05|       S|     Mr|          0|    1|      0.0|           0.0|          0.0|\n",
            "|         14|       0|     3|Andersson, Mr. An...|  male|39.0|    1|    5|          347082| 31.275|       S|     Mr|          6|    0|      0.0|           0.0|          0.0|\n",
            "|         15|       0|     3|Vestrom, Miss. Hu...|female|14.0|    0|    0|          350406| 7.8542|       S|   Miss|          0|    1|      1.0|           0.0|          1.0|\n",
            "|         16|       1|     2|Hewlett, Mrs. (Ma...|female|55.0|    0|    0|          248706|   16.0|       S|    Mrs|          0|    1|      1.0|           0.0|          2.0|\n",
            "|         17|       0|     3|Rice, Master. Eugene|  male| 2.0|    4|    1|          382652| 29.125|       Q| Master|          5|    0|      0.0|           2.0|          3.0|\n",
            "|         18|       1|     2|Williams, Mr. Cha...|  male|33.0|    0|    0|          244373|   13.0|       S|     Mr|          0|    1|      0.0|           0.0|          0.0|\n",
            "|         19|       0|     3|Vander Planke, Mr...|female|31.0|    1|    0|          345763|   18.0|       S|    Mrs|          1|    0|      1.0|           0.0|          2.0|\n",
            "|         20|       1|     3|Masselmani, Mrs. ...|female|36.0|    0|    0|            2649|  7.225|       C|    Mrs|          0|    1|      1.0|           1.0|          2.0|\n",
            "+-----------+--------+------+--------------------+------+----+-----+-----+----------------+-------+--------+-------+-----------+-----+---------+--------------+-------------+\n",
            "only showing top 20 rows\n",
            "\n"
          ]
        }
      ]
    },
    {
      "cell_type": "code",
      "source": [
        "titanic_df.printSchema()"
      ],
      "metadata": {
        "colab": {
          "base_uri": "https://localhost:8080/"
        },
        "id": "BjCrRz_f35i8",
        "outputId": "2953eeef-5f4b-4eaa-ce10-384e0cc5d0eb"
      },
      "execution_count": null,
      "outputs": [
        {
          "output_type": "stream",
          "name": "stdout",
          "text": [
            "root\n",
            " |-- PassengerId: integer (nullable = true)\n",
            " |-- Survived: integer (nullable = true)\n",
            " |-- Pclass: integer (nullable = true)\n",
            " |-- Name: string (nullable = true)\n",
            " |-- Sex: string (nullable = true)\n",
            " |-- Age: double (nullable = true)\n",
            " |-- SibSp: integer (nullable = true)\n",
            " |-- Parch: integer (nullable = true)\n",
            " |-- Ticket: string (nullable = true)\n",
            " |-- Fare: double (nullable = true)\n",
            " |-- Embarked: string (nullable = false)\n",
            " |-- Initial: string (nullable = true)\n",
            " |-- Family_Size: integer (nullable = true)\n",
            " |-- Alone: integer (nullable = false)\n",
            " |-- Sex_index: double (nullable = false)\n",
            " |-- Embarked_index: double (nullable = false)\n",
            " |-- Initial_index: double (nullable = false)\n",
            "\n"
          ]
        }
      ]
    },
    {
      "cell_type": "markdown",
      "source": [
        "Lets convert Sex, Embarked & Initial columns from string to number using StringIndexer"
      ],
      "metadata": {
        "id": "Nte96GrDLsU4"
      }
    },
    {
      "cell_type": "code",
      "source": [
        "titanic_df = titanic_df.drop(\"PassengerId\",\"Name\",\"Ticket\",\"Cabin\",\"Embarked\",\"Sex\",\"Initial\")"
      ],
      "metadata": {
        "id": "B4ezOP2I35lj"
      },
      "execution_count": null,
      "outputs": []
    },
    {
      "cell_type": "code",
      "source": [
        "titanic_df.show()"
      ],
      "metadata": {
        "colab": {
          "base_uri": "https://localhost:8080/"
        },
        "id": "OcnYAoXP35np",
        "outputId": "1adfedc1-6a16-46e7-ceb6-82ee833188c5"
      },
      "execution_count": null,
      "outputs": [
        {
          "output_type": "stream",
          "name": "stdout",
          "text": [
            "+--------+------+----+-----+-----+-------+-----------+-----+---------+--------------+-------------+\n",
            "|Survived|Pclass| Age|SibSp|Parch|   Fare|Family_Size|Alone|Sex_index|Embarked_index|Initial_index|\n",
            "+--------+------+----+-----+-----+-------+-----------+-----+---------+--------------+-------------+\n",
            "|       0|     3|22.0|    1|    0|   7.25|          1|    0|      0.0|           0.0|          0.0|\n",
            "|       1|     1|38.0|    1|    0|71.2833|          1|    0|      1.0|           1.0|          2.0|\n",
            "|       1|     3|26.0|    0|    0|  7.925|          0|    1|      1.0|           0.0|          1.0|\n",
            "|       1|     1|35.0|    1|    0|   53.1|          1|    0|      1.0|           0.0|          2.0|\n",
            "|       0|     3|35.0|    0|    0|   8.05|          0|    1|      0.0|           0.0|          0.0|\n",
            "|       0|     3|33.0|    0|    0| 8.4583|          0|    1|      0.0|           2.0|          0.0|\n",
            "|       0|     1|54.0|    0|    0|51.8625|          0|    1|      0.0|           0.0|          0.0|\n",
            "|       0|     3| 2.0|    3|    1| 21.075|          4|    0|      0.0|           0.0|          3.0|\n",
            "|       1|     3|27.0|    0|    2|11.1333|          2|    0|      1.0|           0.0|          2.0|\n",
            "|       1|     2|14.0|    1|    0|30.0708|          1|    0|      1.0|           1.0|          2.0|\n",
            "|       1|     3| 4.0|    1|    1|   16.7|          2|    0|      1.0|           0.0|          1.0|\n",
            "|       1|     1|58.0|    0|    0|  26.55|          0|    1|      1.0|           0.0|          1.0|\n",
            "|       0|     3|20.0|    0|    0|   8.05|          0|    1|      0.0|           0.0|          0.0|\n",
            "|       0|     3|39.0|    1|    5| 31.275|          6|    0|      0.0|           0.0|          0.0|\n",
            "|       0|     3|14.0|    0|    0| 7.8542|          0|    1|      1.0|           0.0|          1.0|\n",
            "|       1|     2|55.0|    0|    0|   16.0|          0|    1|      1.0|           0.0|          2.0|\n",
            "|       0|     3| 2.0|    4|    1| 29.125|          5|    0|      0.0|           2.0|          3.0|\n",
            "|       1|     2|33.0|    0|    0|   13.0|          0|    1|      0.0|           0.0|          0.0|\n",
            "|       0|     3|31.0|    1|    0|   18.0|          1|    0|      1.0|           0.0|          2.0|\n",
            "|       1|     3|36.0|    0|    0|  7.225|          0|    1|      1.0|           1.0|          2.0|\n",
            "+--------+------+----+-----+-----+-------+-----------+-----+---------+--------------+-------------+\n",
            "only showing top 20 rows\n",
            "\n"
          ]
        }
      ]
    },
    {
      "cell_type": "markdown",
      "source": [
        "Let's put all features into a vector"
      ],
      "metadata": {
        "id": "duvoYHPzJt8t"
      }
    },
    {
      "cell_type": "code",
      "source": [
        "feature = VectorAssembler(inputCols=titanic_df.columns[1:],outputCol=\"features\")\n",
        "feature_vector= feature.transform(titanic_df)"
      ],
      "metadata": {
        "id": "PpB79tS64NdN"
      },
      "execution_count": null,
      "outputs": []
    },
    {
      "cell_type": "code",
      "source": [
        "feature_vector.show()"
      ],
      "metadata": {
        "colab": {
          "base_uri": "https://localhost:8080/"
        },
        "id": "rYz91Ujd4Nfw",
        "outputId": "ca085295-4f0d-4629-b4cc-4f734a24a4f5"
      },
      "execution_count": null,
      "outputs": [
        {
          "output_type": "stream",
          "name": "stdout",
          "text": [
            "+--------+------+----+-----+-----+-------+-----------+-----+---------+--------------+-------------+--------------------+\n",
            "|Survived|Pclass| Age|SibSp|Parch|   Fare|Family_Size|Alone|Sex_index|Embarked_index|Initial_index|            features|\n",
            "+--------+------+----+-----+-----+-------+-----------+-----+---------+--------------+-------------+--------------------+\n",
            "|       0|     3|22.0|    1|    0|   7.25|          1|    0|      0.0|           0.0|          0.0|(10,[0,1,2,4,5],[...|\n",
            "|       1|     1|38.0|    1|    0|71.2833|          1|    0|      1.0|           1.0|          2.0|[1.0,38.0,1.0,0.0...|\n",
            "|       1|     3|26.0|    0|    0|  7.925|          0|    1|      1.0|           0.0|          1.0|[3.0,26.0,0.0,0.0...|\n",
            "|       1|     1|35.0|    1|    0|   53.1|          1|    0|      1.0|           0.0|          2.0|[1.0,35.0,1.0,0.0...|\n",
            "|       0|     3|35.0|    0|    0|   8.05|          0|    1|      0.0|           0.0|          0.0|(10,[0,1,4,6],[3....|\n",
            "|       0|     3|33.0|    0|    0| 8.4583|          0|    1|      0.0|           2.0|          0.0|(10,[0,1,4,6,8],[...|\n",
            "|       0|     1|54.0|    0|    0|51.8625|          0|    1|      0.0|           0.0|          0.0|(10,[0,1,4,6],[1....|\n",
            "|       0|     3| 2.0|    3|    1| 21.075|          4|    0|      0.0|           0.0|          3.0|[3.0,2.0,3.0,1.0,...|\n",
            "|       1|     3|27.0|    0|    2|11.1333|          2|    0|      1.0|           0.0|          2.0|[3.0,27.0,0.0,2.0...|\n",
            "|       1|     2|14.0|    1|    0|30.0708|          1|    0|      1.0|           1.0|          2.0|[2.0,14.0,1.0,0.0...|\n",
            "|       1|     3| 4.0|    1|    1|   16.7|          2|    0|      1.0|           0.0|          1.0|[3.0,4.0,1.0,1.0,...|\n",
            "|       1|     1|58.0|    0|    0|  26.55|          0|    1|      1.0|           0.0|          1.0|[1.0,58.0,0.0,0.0...|\n",
            "|       0|     3|20.0|    0|    0|   8.05|          0|    1|      0.0|           0.0|          0.0|(10,[0,1,4,6],[3....|\n",
            "|       0|     3|39.0|    1|    5| 31.275|          6|    0|      0.0|           0.0|          0.0|[3.0,39.0,1.0,5.0...|\n",
            "|       0|     3|14.0|    0|    0| 7.8542|          0|    1|      1.0|           0.0|          1.0|[3.0,14.0,0.0,0.0...|\n",
            "|       1|     2|55.0|    0|    0|   16.0|          0|    1|      1.0|           0.0|          2.0|[2.0,55.0,0.0,0.0...|\n",
            "|       0|     3| 2.0|    4|    1| 29.125|          5|    0|      0.0|           2.0|          3.0|[3.0,2.0,4.0,1.0,...|\n",
            "|       1|     2|33.0|    0|    0|   13.0|          0|    1|      0.0|           0.0|          0.0|(10,[0,1,4,6],[2....|\n",
            "|       0|     3|31.0|    1|    0|   18.0|          1|    0|      1.0|           0.0|          2.0|[3.0,31.0,1.0,0.0...|\n",
            "|       1|     3|36.0|    0|    0|  7.225|          0|    1|      1.0|           1.0|          2.0|[3.0,36.0,0.0,0.0...|\n",
            "+--------+------+----+-----+-----+-------+-----------+-----+---------+--------------+-------------+--------------------+\n",
            "only showing top 20 rows\n",
            "\n"
          ]
        }
      ]
    },
    {
      "cell_type": "code",
      "source": [
        "(trainingData, testData) = feature_vector.randomSplit([0.8, 0.2],seed = 11)"
      ],
      "metadata": {
        "id": "hO77Hfk54NiG"
      },
      "execution_count": null,
      "outputs": []
    },
    {
      "cell_type": "markdown",
      "source": [
        "**Modelling**\n",
        "\n",
        "Here is the list of few Classification Algorithms from Spark ML\n",
        "\n",
        "LogisticRegression\n",
        "\n",
        "DecisionTreeClassifier\n",
        "\n",
        "RandomForestClassifier\n",
        "\n",
        "Gradient-boosted tree classifier\n",
        "\n",
        "NaiveBayes"
      ],
      "metadata": {
        "id": "R09yDYuhKfCW"
      }
    },
    {
      "cell_type": "markdown",
      "source": [
        "**LogisticRegression**"
      ],
      "metadata": {
        "id": "JnibBkwGK0RL"
      }
    },
    {
      "cell_type": "code",
      "source": [
        "from pyspark.ml.classification import LogisticRegression\n",
        "lr = LogisticRegression(labelCol=\"Survived\", featuresCol=\"features\")\n",
        "#Training algo\n",
        "lrModel = lr.fit(trainingData)\n",
        "lr_prediction = lrModel.transform(testData)\n",
        "lr_prediction.select(\"prediction\", \"Survived\", \"features\").show()\n",
        "evaluator = MulticlassClassificationEvaluator(labelCol=\"Survived\", predictionCol=\"prediction\", metricName=\"accuracy\")"
      ],
      "metadata": {
        "colab": {
          "base_uri": "https://localhost:8080/"
        },
        "id": "C6fKrTDw4Nk-",
        "outputId": "2d4d0f25-4f3c-4280-98d1-671a9f0f8104"
      },
      "execution_count": null,
      "outputs": [
        {
          "output_type": "stream",
          "name": "stdout",
          "text": [
            "+----------+--------+--------------------+\n",
            "|prediction|Survived|            features|\n",
            "+----------+--------+--------------------+\n",
            "|       1.0|       0|(10,[0,1,4,6,8],[...|\n",
            "|       1.0|       0|(10,[0,1,4,6,8],[...|\n",
            "|       0.0|       0|(10,[0,1,4,6],[1....|\n",
            "|       0.0|       0|(10,[0,1,2,4,5],[...|\n",
            "|       0.0|       0|(10,[0,1,4,6,8],[...|\n",
            "|       0.0|       0|(10,[0,1,2,4,5],[...|\n",
            "|       0.0|       0|(10,[0,1,6],[1.0,...|\n",
            "|       0.0|       0|(10,[0,1,4,6],[1....|\n",
            "|       0.0|       0|(10,[0,1,4,6],[1....|\n",
            "|       0.0|       0|(10,[0,1,4,6],[1....|\n",
            "|       1.0|       0|(10,[0,1,4,6],[1....|\n",
            "|       0.0|       0|(10,[0,1,2,4,5],[...|\n",
            "|       1.0|       0|(10,[0,1,3,4,5],[...|\n",
            "|       0.0|       0|(10,[0,1,2,4,5],[...|\n",
            "|       0.0|       0|(10,[0,1,4,6],[1....|\n",
            "|       0.0|       0|[1.0,58.0,0.0,2.0...|\n",
            "|       0.0|       0|(10,[0,1,4,6],[1....|\n",
            "|       0.0|       0|(10,[0,1,4,6],[1....|\n",
            "|       0.0|       0|(10,[0,1,4,6,8],[...|\n",
            "|       0.0|       0|[2.0,19.0,1.0,1.0...|\n",
            "+----------+--------+--------------------+\n",
            "only showing top 20 rows\n",
            "\n"
          ]
        }
      ]
    },
    {
      "cell_type": "code",
      "source": [
        "lr_accuracy = evaluator.evaluate(lr_prediction)\n",
        "print(\"Accuracy of LogisticRegression is = %g\"% (lr_accuracy))\n",
        "print(\"Test Error of LogisticRegression = %g \" % (1.0 - lr_accuracy))"
      ],
      "metadata": {
        "colab": {
          "base_uri": "https://localhost:8080/"
        },
        "id": "K1H89UkA4Nnl",
        "outputId": "92769794-3d89-442b-84e6-8789eaac8135"
      },
      "execution_count": null,
      "outputs": [
        {
          "output_type": "stream",
          "name": "stdout",
          "text": [
            "Accuracy of LogisticRegression is = 0.771277\n",
            "Test Error of LogisticRegression = 0.228723 \n"
          ]
        }
      ]
    },
    {
      "cell_type": "code",
      "source": [
        "DecisionTreeClassifier"
      ],
      "metadata": {
        "id": "QjMsFWLwK56H"
      },
      "execution_count": null,
      "outputs": []
    },
    {
      "cell_type": "code",
      "source": [],
      "metadata": {
        "id": "gG0cVJYVLF6K"
      },
      "execution_count": null,
      "outputs": []
    },
    {
      "cell_type": "markdown",
      "source": [
        "**DecisionTreeClassifier**"
      ],
      "metadata": {
        "id": "bXSjRQTTK8kr"
      }
    },
    {
      "cell_type": "code",
      "source": [
        "from pyspark.ml.classification import DecisionTreeClassifier\n",
        "dt = DecisionTreeClassifier(labelCol=\"Survived\", featuresCol=\"features\")\n",
        "dt_model = dt.fit(trainingData)\n",
        "dt_prediction = dt_model.transform(testData)\n",
        "dt_prediction.select(\"prediction\", \"Survived\", \"features\").show()\n"
      ],
      "metadata": {
        "colab": {
          "base_uri": "https://localhost:8080/"
        },
        "id": "98Mf0ACH4NqK",
        "outputId": "12344535-5f49-4eac-d0ed-642830ecc856"
      },
      "execution_count": null,
      "outputs": [
        {
          "output_type": "stream",
          "name": "stdout",
          "text": [
            "+----------+--------+--------------------+\n",
            "|prediction|Survived|            features|\n",
            "+----------+--------+--------------------+\n",
            "|       0.0|       0|(10,[0,1,4,6,8],[...|\n",
            "|       0.0|       0|(10,[0,1,4,6,8],[...|\n",
            "|       1.0|       0|(10,[0,1,4,6],[1....|\n",
            "|       0.0|       0|(10,[0,1,2,4,5],[...|\n",
            "|       1.0|       0|(10,[0,1,4,6,8],[...|\n",
            "|       0.0|       0|(10,[0,1,2,4,5],[...|\n",
            "|       0.0|       0|(10,[0,1,6],[1.0,...|\n",
            "|       0.0|       0|(10,[0,1,4,6],[1....|\n",
            "|       0.0|       0|(10,[0,1,4,6],[1....|\n",
            "|       0.0|       0|(10,[0,1,4,6],[1....|\n",
            "|       0.0|       0|(10,[0,1,4,6],[1....|\n",
            "|       0.0|       0|(10,[0,1,2,4,5],[...|\n",
            "|       0.0|       0|(10,[0,1,3,4,5],[...|\n",
            "|       0.0|       0|(10,[0,1,2,4,5],[...|\n",
            "|       0.0|       0|(10,[0,1,4,6],[1....|\n",
            "|       0.0|       0|[1.0,58.0,0.0,2.0...|\n",
            "|       0.0|       0|(10,[0,1,4,6],[1....|\n",
            "|       0.0|       0|(10,[0,1,4,6],[1....|\n",
            "|       0.0|       0|(10,[0,1,4,6,8],[...|\n",
            "|       0.0|       0|[2.0,19.0,1.0,1.0...|\n",
            "+----------+--------+--------------------+\n",
            "only showing top 20 rows\n",
            "\n"
          ]
        }
      ]
    },
    {
      "cell_type": "code",
      "source": [
        "dt_accuracy = evaluator.evaluate(dt_prediction)\n",
        "print(\"Accuracy of DecisionTreeClassifier is = %g\"% (dt_accuracy))\n",
        "print(\"Test Error of DecisionTreeClassifier = %g \" % (1.0 - dt_accuracy))"
      ],
      "metadata": {
        "colab": {
          "base_uri": "https://localhost:8080/"
        },
        "id": "D-R3CRVc4Nsh",
        "outputId": "361647c9-2d66-4800-bc1c-d22d9dd8c81a"
      },
      "execution_count": null,
      "outputs": [
        {
          "output_type": "stream",
          "name": "stdout",
          "text": [
            "Accuracy of DecisionTreeClassifier is = 0.819149\n",
            "Test Error of DecisionTreeClassifier = 0.180851 \n"
          ]
        }
      ]
    },
    {
      "cell_type": "markdown",
      "source": [
        "**RandomForestClassifier**"
      ],
      "metadata": {
        "id": "5a1AWxS_LLeU"
      }
    },
    {
      "cell_type": "code",
      "source": [
        "from pyspark.ml.classification import RandomForestClassifier\n",
        "rf = DecisionTreeClassifier(labelCol=\"Survived\", featuresCol=\"features\")\n",
        "rf_model = rf.fit(trainingData)\n",
        "rf_prediction = rf_model.transform(testData)\n",
        "rf_prediction.select(\"prediction\", \"Survived\", \"features\").show()"
      ],
      "metadata": {
        "colab": {
          "base_uri": "https://localhost:8080/"
        },
        "id": "m1NRL0C64Nun",
        "outputId": "363d3677-cf8a-4610-ef50-a141d10067a6"
      },
      "execution_count": null,
      "outputs": [
        {
          "output_type": "stream",
          "name": "stdout",
          "text": [
            "+----------+--------+--------------------+\n",
            "|prediction|Survived|            features|\n",
            "+----------+--------+--------------------+\n",
            "|       0.0|       0|(10,[0,1,4,6,8],[...|\n",
            "|       0.0|       0|(10,[0,1,4,6,8],[...|\n",
            "|       1.0|       0|(10,[0,1,4,6],[1....|\n",
            "|       0.0|       0|(10,[0,1,2,4,5],[...|\n",
            "|       1.0|       0|(10,[0,1,4,6,8],[...|\n",
            "|       0.0|       0|(10,[0,1,2,4,5],[...|\n",
            "|       0.0|       0|(10,[0,1,6],[1.0,...|\n",
            "|       0.0|       0|(10,[0,1,4,6],[1....|\n",
            "|       0.0|       0|(10,[0,1,4,6],[1....|\n",
            "|       0.0|       0|(10,[0,1,4,6],[1....|\n",
            "|       0.0|       0|(10,[0,1,4,6],[1....|\n",
            "|       0.0|       0|(10,[0,1,2,4,5],[...|\n",
            "|       0.0|       0|(10,[0,1,3,4,5],[...|\n",
            "|       0.0|       0|(10,[0,1,2,4,5],[...|\n",
            "|       0.0|       0|(10,[0,1,4,6],[1....|\n",
            "|       0.0|       0|[1.0,58.0,0.0,2.0...|\n",
            "|       0.0|       0|(10,[0,1,4,6],[1....|\n",
            "|       0.0|       0|(10,[0,1,4,6],[1....|\n",
            "|       0.0|       0|(10,[0,1,4,6,8],[...|\n",
            "|       0.0|       0|[2.0,19.0,1.0,1.0...|\n",
            "+----------+--------+--------------------+\n",
            "only showing top 20 rows\n",
            "\n"
          ]
        }
      ]
    },
    {
      "cell_type": "code",
      "source": [
        "rf_accuracy = evaluator.evaluate(rf_prediction)\n",
        "print(\"Accuracy of RandomForestClassifier is = %g\"% (rf_accuracy))\n",
        "print(\"Test Error of RandomForestClassifier  = %g \" % (1.0 - rf_accuracy))"
      ],
      "metadata": {
        "colab": {
          "base_uri": "https://localhost:8080/"
        },
        "id": "hFZu4QaA44qj",
        "outputId": "2a28ba5a-f3f1-43eb-d80a-1a610b35df9a"
      },
      "execution_count": null,
      "outputs": [
        {
          "output_type": "stream",
          "name": "stdout",
          "text": [
            "Accuracy of RandomForestClassifier is = 0.819149\n",
            "Test Error of RandomForestClassifier  = 0.180851 \n"
          ]
        }
      ]
    },
    {
      "cell_type": "markdown",
      "source": [
        "**Gradient-boosted tree classifier**"
      ],
      "metadata": {
        "id": "36xP5zMdLRkK"
      }
    },
    {
      "cell_type": "code",
      "source": [
        "from pyspark.ml.classification import GBTClassifier\n",
        "gbt = GBTClassifier(labelCol=\"Survived\", featuresCol=\"features\",maxIter=10)\n",
        "gbt_model = gbt.fit(trainingData)\n",
        "gbt_prediction = gbt_model.transform(testData)\n",
        "gbt_prediction.select(\"prediction\", \"Survived\", \"features\").show()\n"
      ],
      "metadata": {
        "colab": {
          "base_uri": "https://localhost:8080/"
        },
        "id": "V2iGbHVH48IC",
        "outputId": "2ce0e916-2f94-4c36-b0b0-9b5ca21289c8"
      },
      "execution_count": null,
      "outputs": [
        {
          "output_type": "stream",
          "name": "stdout",
          "text": [
            "+----------+--------+--------------------+\n",
            "|prediction|Survived|            features|\n",
            "+----------+--------+--------------------+\n",
            "|       1.0|       0|(10,[0,1,4,6,8],[...|\n",
            "|       0.0|       0|(10,[0,1,4,6,8],[...|\n",
            "|       1.0|       0|(10,[0,1,4,6],[1....|\n",
            "|       0.0|       0|(10,[0,1,2,4,5],[...|\n",
            "|       1.0|       0|(10,[0,1,4,6,8],[...|\n",
            "|       0.0|       0|(10,[0,1,2,4,5],[...|\n",
            "|       0.0|       0|(10,[0,1,6],[1.0,...|\n",
            "|       0.0|       0|(10,[0,1,4,6],[1....|\n",
            "|       0.0|       0|(10,[0,1,4,6],[1....|\n",
            "|       0.0|       0|(10,[0,1,4,6],[1....|\n",
            "|       0.0|       0|(10,[0,1,4,6],[1....|\n",
            "|       0.0|       0|(10,[0,1,2,4,5],[...|\n",
            "|       0.0|       0|(10,[0,1,3,4,5],[...|\n",
            "|       0.0|       0|(10,[0,1,2,4,5],[...|\n",
            "|       0.0|       0|(10,[0,1,4,6],[1....|\n",
            "|       0.0|       0|[1.0,58.0,0.0,2.0...|\n",
            "|       0.0|       0|(10,[0,1,4,6],[1....|\n",
            "|       0.0|       0|(10,[0,1,4,6],[1....|\n",
            "|       0.0|       0|(10,[0,1,4,6,8],[...|\n",
            "|       0.0|       0|[2.0,19.0,1.0,1.0...|\n",
            "+----------+--------+--------------------+\n",
            "only showing top 20 rows\n",
            "\n"
          ]
        }
      ]
    },
    {
      "cell_type": "code",
      "source": [
        "gbt_accuracy = evaluator.evaluate(gbt_prediction)\n",
        "print(\"Accuracy of Gradient-boosted tree classifie is = %g\"% (gbt_accuracy))\n",
        "print(\"Test Error of Gradient-boosted tree classifie %g\"% (1.0 - gbt_accuracy))"
      ],
      "metadata": {
        "colab": {
          "base_uri": "https://localhost:8080/"
        },
        "id": "BIiwa6-G4_ei",
        "outputId": "03d30f17-ae6f-450e-d7e1-8fe2358fc0bb"
      },
      "execution_count": null,
      "outputs": [
        {
          "output_type": "stream",
          "name": "stdout",
          "text": [
            "Accuracy of Gradient-boosted tree classifie is = 0.803191\n",
            "Test Error of Gradient-boosted tree classifie 0.196809\n"
          ]
        }
      ]
    },
    {
      "cell_type": "markdown",
      "source": [
        "**NaiveBayes**"
      ],
      "metadata": {
        "id": "66AFf1rzLaPo"
      }
    },
    {
      "cell_type": "code",
      "source": [
        "from pyspark.ml.classification import NaiveBayes\n",
        "nb = NaiveBayes(labelCol=\"Survived\", featuresCol=\"features\")\n",
        "nb_model = nb.fit(trainingData)\n",
        "nb_prediction = nb_model.transform(testData)\n",
        "nb_prediction.select(\"prediction\", \"Survived\", \"features\").show()\n"
      ],
      "metadata": {
        "colab": {
          "base_uri": "https://localhost:8080/"
        },
        "id": "af7SzcuT5C9O",
        "outputId": "d2a65877-52f6-4090-87f5-0622150b9cd6"
      },
      "execution_count": null,
      "outputs": [
        {
          "output_type": "stream",
          "name": "stdout",
          "text": [
            "+----------+--------+--------------------+\n",
            "|prediction|Survived|            features|\n",
            "+----------+--------+--------------------+\n",
            "|       1.0|       0|(10,[0,1,4,6,8],[...|\n",
            "|       1.0|       0|(10,[0,1,4,6,8],[...|\n",
            "|       0.0|       0|(10,[0,1,4,6],[1....|\n",
            "|       1.0|       0|(10,[0,1,2,4,5],[...|\n",
            "|       0.0|       0|(10,[0,1,4,6,8],[...|\n",
            "|       1.0|       0|(10,[0,1,2,4,5],[...|\n",
            "|       0.0|       0|(10,[0,1,6],[1.0,...|\n",
            "|       0.0|       0|(10,[0,1,4,6],[1....|\n",
            "|       0.0|       0|(10,[0,1,4,6],[1....|\n",
            "|       1.0|       0|(10,[0,1,4,6],[1....|\n",
            "|       1.0|       0|(10,[0,1,4,6],[1....|\n",
            "|       1.0|       0|(10,[0,1,2,4,5],[...|\n",
            "|       1.0|       0|(10,[0,1,3,4,5],[...|\n",
            "|       1.0|       0|(10,[0,1,2,4,5],[...|\n",
            "|       0.0|       0|(10,[0,1,4,6],[1....|\n",
            "|       1.0|       0|[1.0,58.0,0.0,2.0...|\n",
            "|       0.0|       0|(10,[0,1,4,6],[1....|\n",
            "|       0.0|       0|(10,[0,1,4,6],[1....|\n",
            "|       0.0|       0|(10,[0,1,4,6,8],[...|\n",
            "|       1.0|       0|[2.0,19.0,1.0,1.0...|\n",
            "+----------+--------+--------------------+\n",
            "only showing top 20 rows\n",
            "\n"
          ]
        }
      ]
    },
    {
      "cell_type": "code",
      "source": [
        "nb_accuracy = evaluator.evaluate(nb_prediction)\n",
        "print(\"Accuracy of NaiveBayes is  = %g\"% (nb_accuracy))\n",
        "print(\"Test Error of NaiveBayes  = %g \" % (1.0 - nb_accuracy))"
      ],
      "metadata": {
        "colab": {
          "base_uri": "https://localhost:8080/"
        },
        "id": "BTVA1aqu5Htk",
        "outputId": "4eb92a44-60bc-4300-aa25-13358937fe92"
      },
      "execution_count": null,
      "outputs": [
        {
          "output_type": "stream",
          "name": "stdout",
          "text": [
            "Accuracy of NaiveBayes is  = 0.739362\n",
            "Test Error of NaiveBayes  = 0.260638 \n"
          ]
        }
      ]
    },
    {
      "cell_type": "markdown",
      "source": [
        "**Support Vector Machine**"
      ],
      "metadata": {
        "id": "gJVkxVNfLeJo"
      }
    },
    {
      "cell_type": "code",
      "source": [
        "from pyspark.ml.classification import LinearSVC\n",
        "svm = LinearSVC(labelCol=\"Survived\", featuresCol=\"features\")\n",
        "svm_model = svm.fit(trainingData)\n",
        "svm_prediction = svm_model.transform(testData)\n",
        "svm_prediction.select(\"prediction\", \"Survived\", \"features\").show()\n"
      ],
      "metadata": {
        "colab": {
          "base_uri": "https://localhost:8080/"
        },
        "id": "7UtRfgmI5Hwo",
        "outputId": "643d9965-ebf6-45a5-b2bd-0157d7b333ea"
      },
      "execution_count": null,
      "outputs": [
        {
          "output_type": "stream",
          "name": "stdout",
          "text": [
            "+----------+--------+--------------------+\n",
            "|prediction|Survived|            features|\n",
            "+----------+--------+--------------------+\n",
            "|       0.0|       0|(10,[0,1,4,6,8],[...|\n",
            "|       0.0|       0|(10,[0,1,4,6,8],[...|\n",
            "|       0.0|       0|(10,[0,1,4,6],[1....|\n",
            "|       0.0|       0|(10,[0,1,2,4,5],[...|\n",
            "|       0.0|       0|(10,[0,1,4,6,8],[...|\n",
            "|       0.0|       0|(10,[0,1,2,4,5],[...|\n",
            "|       0.0|       0|(10,[0,1,6],[1.0,...|\n",
            "|       0.0|       0|(10,[0,1,4,6],[1....|\n",
            "|       0.0|       0|(10,[0,1,4,6],[1....|\n",
            "|       0.0|       0|(10,[0,1,4,6],[1....|\n",
            "|       0.0|       0|(10,[0,1,4,6],[1....|\n",
            "|       0.0|       0|(10,[0,1,2,4,5],[...|\n",
            "|       0.0|       0|(10,[0,1,3,4,5],[...|\n",
            "|       0.0|       0|(10,[0,1,2,4,5],[...|\n",
            "|       0.0|       0|(10,[0,1,4,6],[1....|\n",
            "|       0.0|       0|[1.0,58.0,0.0,2.0...|\n",
            "|       0.0|       0|(10,[0,1,4,6],[1....|\n",
            "|       0.0|       0|(10,[0,1,4,6],[1....|\n",
            "|       0.0|       0|(10,[0,1,4,6,8],[...|\n",
            "|       0.0|       0|[2.0,19.0,1.0,1.0...|\n",
            "+----------+--------+--------------------+\n",
            "only showing top 20 rows\n",
            "\n"
          ]
        }
      ]
    },
    {
      "cell_type": "code",
      "source": [
        "svm_accuracy = evaluator.evaluate(svm_prediction)\n",
        "print(\"Accuracy of Support Vector Machine is = %g\"% (svm_accuracy))\n",
        "print(\"Test Error of Support Vector Machine = %g \" % (1.0 - svm_accuracy))"
      ],
      "metadata": {
        "colab": {
          "base_uri": "https://localhost:8080/"
        },
        "id": "qrCZmXOt5Hy-",
        "outputId": "4a1c3dbe-a707-47ae-b2f2-971ec5dc6929"
      },
      "execution_count": null,
      "outputs": [
        {
          "output_type": "stream",
          "name": "stdout",
          "text": [
            "Accuracy of Support Vector Machine is = 0.808511\n",
            "Test Error of Support Vector Machine = 0.191489 \n"
          ]
        }
      ]
    },
    {
      "cell_type": "code",
      "source": [],
      "metadata": {
        "id": "H9YCxaVtF1dz"
      },
      "execution_count": null,
      "outputs": []
    },
    {
      "cell_type": "code",
      "source": [],
      "metadata": {
        "id": "hcOrwbr1F1gj"
      },
      "execution_count": null,
      "outputs": []
    },
    {
      "cell_type": "code",
      "source": [],
      "metadata": {
        "id": "HPt4W0-pF1rW"
      },
      "execution_count": null,
      "outputs": []
    }
  ]
}